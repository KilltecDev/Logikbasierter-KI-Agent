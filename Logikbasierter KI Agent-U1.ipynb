{
 "cells": [
  {
   "cell_type": "markdown",
   "metadata": {},
   "source": [
    "# Logikbasierter KI Agent\n",
    "\n",
    "Dieses Jupyter Notebook widmet sich der Untersuchung und Implementierung eines logikbasierten KI-Agenten. Dabei werden folgende zentrale Themen behandelt:\n",
    "\n",
    "- Forward Chaining\n",
    "- Backward Chaining\n",
    "- Beispiele für diese beiden Konzepte\n",
    "- Vorteile so wie nachteile dieser beiden Konzepte\n",
    "  \n",
    "**Fragen, die in diesem Notebook beantwortet werden:**\n",
    "1. Was sind die Grundprinzipien von Forward und Backward Chaining?\n",
    "2. Wie werden diese Konzepte in praktischen Beispielen angewendet?\n",
    "3. Welche Vor- und Nachteile bieten diese Methoden?\n",
    "\n",
    "Input Datei Logische Regeln die verwendet werden:\n",
    "- ∧ = AND\n",
    "- => = Implikation\n",
    "\n"
   ]
  },
  {
   "cell_type": "markdown",
   "metadata": {},
   "source": [
    "## Forward Chaining\n",
    "\n",
    "Beim Forward Chaining beginnt man mit denn bekannten Fakten und wendet darauf die Regeln an, um neue Fakten abzluleiten, bis alle Ableitungen die möglich gewesen sind gemacht wurden.\n",
    "### Schritt 1: \n",
    "Implementierung die tell Funktion, um alle bereits bekannten Fakten als wahr anzuerkennen.\n",
    "### Schritt 2:\n",
    "Implementierung der ask Funktion, um eine Anfrage zu starten und den Forward-Chaining-Prozess zu initiieren.\n",
    "### Schritt 3: \n",
    "Zusätzlich zu denn Fakten gibt es ein Regelset: \n",
    "- Jede Regel hat eine oder mehrere Prämissen (Bedingungen, die erfüllt sein müssen)\n",
    "- Einer Konklusion (ein neuer Fakt, der abgeleitet wird, wenn die Prämissen wahr sind).\n",
    "### Schritt 4 (Wichtig):\n",
    "Der Kern des Forward Chaining ist ein iterativer Prozess:\n",
    "- Mehreren Prämissen (Bedingungen, die erfüllt sein müssen).\n",
    "- Sind alle Prämissen erfüllt, wird die Konklusion als neuer Fakt abgeleitet und zu den bekannten Fakten hinzugefügt\n",
    "### Schritt 5\n",
    "Der Prozess wird wiederholt, bis keine neuen Fakten mehr abgeleitet werden können."
   ]
  },
  {
   "cell_type": "markdown",
   "metadata": {},
   "source": [
    "### Klasse Forward Chaining"
   ]
  },
  {
   "cell_type": "code",
   "execution_count": 1,
   "metadata": {},
   "outputs": [],
   "source": [
    "class Forward_Chaining:\n",
    "    def __init__(self):\n",
    "        self.facts = set()  # Speicherung von Fakten\n",
    "        self.rules = []  # Speicherung von Regeln\n",
    "\n",
    "    def tell(self, clause):\n",
    "        # Fügt Fakten oder Regeln zur Wissensbasis hinzu\n",
    "        if \"=>\" in clause:\n",
    "            try:\n",
    "                # Splitte nur am ersten \"=>\"\n",
    "                parts = clause.split(\"=>\", 1)\n",
    "                premise = parts[0].strip()\n",
    "                conclusion = parts[1].strip()\n",
    "                if premise == \"\":\n",
    "                    self.facts.add(conclusion)\n",
    "                else:\n",
    "                    self.rules.append(([p.strip() for p in premise.split(\"∧\")], conclusion))\n",
    "            except IndexError:\n",
    "                print(f\"Fehler beim Verarbeiten der Regel: {clause}\")\n",
    "        elif \"<=\" in clause:\n",
    "            try:\n",
    "                # Splitte nur am ersten \"<=\"\n",
    "                parts = clause.split(\"<=\", 1)\n",
    "                conclusion = parts[0].strip()\n",
    "                premise = parts[1].strip()\n",
    "                if premise == \"\":\n",
    "                    self.facts.add(conclusion)\n",
    "                else:\n",
    "                    self.rules.append(([p.strip() for p in premise.split(\"∧\")], conclusion))\n",
    "            except IndexError:\n",
    "                print(f\"Fehler beim Verarbeiten der Regel: {clause}\")\n",
    "        else:\n",
    "            self.facts.add(clause.strip())\n",
    "\n",
    "        \n",
    "    def ask(self, query):\n",
    "        # Prüft, ob ein bestimmtes Ziel mit Forward Chaining erreicht werden kann\n",
    "        return self.forward_chaining(target=query)\n",
    "\n",
    "    def forward_chaining(self, target=None):\n",
    "        # Leitet neue Fakten ab, indem es die Regeln auf die bestehenden Fakten anwendet\n",
    "        new_facts = True\n",
    "        while new_facts:\n",
    "            new_facts = False\n",
    "            for premise, conclusion in self.rules:\n",
    "                if all(item in self.facts for item in premise) and conclusion not in self.facts:\n",
    "                    self.facts.add(conclusion)\n",
    "                    new_facts = True  # Ein neuer Fakt wurde gefunden, weitere Iterationen sind nötig\n",
    "                    # Falls ein Ziel angegeben ist und erreicht wurde, abbrechen\n",
    "                    if target and conclusion == target:\n",
    "                        return True\n",
    "        return target in self.facts if target else self.facts\n",
    "\n",
    "    \n",
    "def read_import_file_FC(file_path):\n",
    "    forward_chaining_knowledge = Forward_Chaining()\n",
    "    with open(file_path, 'r', encoding='utf-8') as file:\n",
    "        lines = file.readlines()\n",
    "        for line in lines:\n",
    "            if line.strip():\n",
    "                forward_chaining_knowledge.tell(line.strip())\n",
    "    print(\"Fakten:\", forward_chaining_knowledge.facts)\n",
    "    print(\"Regeln:\", [(f\"{' ∧ '.join(body)} => {head}\") for body, head in forward_chaining_knowledge.rules])\n",
    "    return forward_chaining_knowledge"
   ]
  },
  {
   "cell_type": "markdown",
   "metadata": {},
   "source": [
    "#### Beispiel txt Forward Chaining (exampleForward_chaining)"
   ]
  },
  {
   "cell_type": "code",
   "execution_count": 2,
   "metadata": {},
   "outputs": [
    {
     "name": "stdout",
     "output_type": "stream",
     "text": [
      "A ∧ B => C\n",
      "\n",
      "C ∧ D => E\n",
      "\n",
      "E ∧ F => G\n",
      "\n",
      "H ∧ I => J\n",
      "\n",
      "\n",
      "\n",
      "=> A\n",
      "\n",
      "=> B\n",
      "\n",
      "=> D\n",
      "\n",
      "\n",
      "\n"
     ]
    }
   ],
   "source": [
    "with open(\"exampleForward_chaining.txt\", 'r', encoding='utf-8') as file:\n",
    "    lines = file.readlines()\n",
    "    for line in lines:\n",
    "        print(line)"
   ]
  },
  {
   "cell_type": "markdown",
   "metadata": {},
   "source": [
    "### Forward Chaining Main Programm"
   ]
  },
  {
   "cell_type": "code",
   "execution_count": 3,
   "metadata": {},
   "outputs": [
    {
     "name": "stdout",
     "output_type": "stream",
     "text": [
      "Fakten: {'D', 'A', 'B'}\n",
      "Regeln: ['A ∧ B => C', 'C ∧ D => E', 'E ∧ F => G', 'H ∧ I => J']\n",
      "Ist es möglich das Ziel C zu erreichen? //  True\n",
      "Ziel konnte erreicht werden.\n",
      "Neu abgeleitete Fakten nach Forward Chaining: {'B', 'D', 'C', 'E', 'A'}\n"
     ]
    }
   ],
   "source": [
    "# Main Funktion um Forward Chaining zu Testen\n",
    "\n",
    "if __name__ == \"__main__\":\n",
    "    knowledge_file = 'exampleForward_chaining.txt'\n",
    "    knowledge = read_import_file_FC(knowledge_file)\n",
    "    # Was soll überprüft werden ob es Vorhanden ist?\n",
    "    \n",
    "    target = \"C\"\n",
    "\n",
    "    result = knowledge.ask(target)\n",
    "    print(f\"Ist es möglich das Ziel {target} zu erreichen? //  {result}\")\n",
    "    if result:\n",
    "        print(f\"Ziel konnte erreicht werden.\")\n",
    "    else:\n",
    "        print(\"Ziel konnte nicht erreicht werden.\")\n",
    "    new_facts = knowledge.forward_chaining()\n",
    "    print(\"Neu abgeleitete Fakten nach Forward Chaining:\", new_facts)"
   ]
  },
  {
   "cell_type": "markdown",
   "metadata": {},
   "source": [
    "\n",
    "## Backward Chaining\n",
    "\n",
    "Backward Chaining beginnt mit einem spezifischen Ziel und arbeitet rückwärts, indem es Regeln anwendet, um festzustellen, ob die Prämissen dieser Regeln durch bereits bekannte Fakten oder weitere Ableitungen erfüllt werden können.\n",
    "\n",
    "### Schritt 1:\n",
    "\n",
    "Implementierung der tell Funktion, um Regeln und Fakten in die Wissensbasis einzufügen. Diese Funktion speichert alle bekannten Fakten sowie Regeln, die aus Prämissen und einer Konklusion bestehen.\n",
    "\n",
    "### Schritt 2:\n",
    "\n",
    "Implementierung der ask Funktion, um eine Anfrage zu starten und den Backward-Chaining-Prozess zu initiieren.\n",
    "\n",
    "### Schritt 3 (Wichtig):\n",
    "Der Prozess:\n",
    "\n",
    "- Direkte Überprüfung ob das Ziel bereits als bekannter Fakt vorliegt\n",
    "- Falls nicht, suche Regeln, deren Konklusion das Ziel ist. Dann mu man prüfen ob die Prämissen dieser Regeln durch andere bekannte Fakter oder Ableitungen aus anderen Regeln erfüllt werden.\n",
    "- Dies erfolgt rekursiv: Für jede benötigte Prämisse wird der gleiche Prozess wiederholt, bis entweder das Ziel bestätigt oder als unerreichbar verworfen wird.\n",
    "\n",
    "### Schritt 4\n",
    "Der Prozess endet, wenn das Ziel als erreichbar bestätigt oder endgültig verworfen wird. Dies hängt von den in der Wissenbasis verfügbaren Informationen und der Verknüpfung von Regeln ab."
   ]
  },
  {
   "cell_type": "markdown",
   "metadata": {},
   "source": [
    "### Klasse Backward Chaining"
   ]
  },
  {
   "cell_type": "code",
   "execution_count": 4,
   "metadata": {},
   "outputs": [],
   "source": [
    "class Backward_Chaining:\n",
    "    def __init__(self):\n",
    "        self.facts = set()  # Speicherung von Fakten\n",
    "        self.rules = []  # Speicherung von Regeln\n",
    "\n",
    "    def tell(self, clause):\n",
    "        # Fügt Fakten oder Regeln zur Wissensbasis hinzu\n",
    "        if \"=>\" in clause:\n",
    "            try:\n",
    "                # Splitte nur am ersten \"=>\"\n",
    "                parts = clause.split(\"=>\", 1)\n",
    "                premise = parts[0].strip()\n",
    "                conclusion = parts[1].strip()\n",
    "                if premise == \"\":\n",
    "                    self.facts.add(conclusion)\n",
    "                else:\n",
    "                    self.rules.append(([p.strip() for p in premise.split(\"∧\")], conclusion))\n",
    "            except IndexError:\n",
    "                print(f\"Fehler beim Verarbeiten der Regel: {clause}\")\n",
    "        elif \"<=\" in clause:\n",
    "            try:\n",
    "                # Splitte nur am ersten \"<=\"\n",
    "                parts = clause.split(\"<=\", 1)\n",
    "                conclusion = parts[0].strip()\n",
    "                premise = parts[1].strip()\n",
    "                if premise == \"\":\n",
    "                    self.facts.add(conclusion)\n",
    "                else:\n",
    "                    self.rules.append(([p.strip() for p in premise.split(\"∧\")], conclusion))\n",
    "            except IndexError:\n",
    "                print(f\"Fehler beim Verarbeiten der Regel: {clause}\")\n",
    "        else:\n",
    "            self.facts.add(clause.strip())\n",
    "\n",
    "    def ask(self, query):\n",
    "        # Startet den Prozess des Backward Chaining, um eine Anfrage zu beantworten.\n",
    "        result = self.backward_chaining([query])\n",
    "        if isinstance(result, bool):  # Falls nur ein bool-Wert zurückgegeben wird\n",
    "            return result\n",
    "        return False  # Standardwert bei Fehlern\n",
    "\n",
    "    def backward_chaining(self, goals):\n",
    "        # Startet den Prozess des Backward Chaining, um eine Anfrage zu beantworten.\n",
    "        if not goals:\n",
    "            return True  # Keine Ziele mehr zu prüfen, bedeutet Erfolg\n",
    "        goal = goals.pop().strip()\n",
    "        if goal in self.facts:\n",
    "            return self.backward_chaining(goals)\n",
    "        for body, head in self.rules:\n",
    "            if head == goal:\n",
    "                new_goals = list(goals)\n",
    "                new_goals.extend(body)\n",
    "                if self.backward_chaining(new_goals):  # Hier nur bool-Werte verwenden\n",
    "                    return True\n",
    "        return False  # Keine Regel konnte das Ziel beweisen\n",
    "\n",
    "\n",
    "def read_import_fileBC(file_path):\n",
    "    Backward_Chaining_knowledge = Backward_Chaining()\n",
    "    with open(file_path, 'r', encoding='utf-8') as file:\n",
    "        lines = file.readlines()\n",
    "        for line in lines:\n",
    "            if line.strip():\n",
    "                Backward_Chaining_knowledge.tell(line.strip())\n",
    "    print(\"Fakten:\", Backward_Chaining_knowledge.facts)\n",
    "    print(\"Regeln:\", [(f\"{' ∧ '.join(body)} => {head}\") for body, head in Backward_Chaining_knowledge.rules])\n",
    "    return Backward_Chaining_knowledge\n"
   ]
  },
  {
   "cell_type": "markdown",
   "metadata": {},
   "source": [
    "#### Beispiel txt Backward Chaining (exampleBackward_chaining.txt)"
   ]
  },
  {
   "cell_type": "code",
   "execution_count": 5,
   "metadata": {},
   "outputs": [
    {
     "name": "stdout",
     "output_type": "stream",
     "text": [
      "A ∧ B ∧ C => D\n",
      "\n",
      "A ∧ B ∧ E => F\n",
      "\n",
      "P1 ∧ P2 => B\n",
      "\n",
      "=> B\n",
      "\n",
      "=> P1\n",
      "\n",
      "=> P2\n",
      "\n",
      "=> E\n"
     ]
    }
   ],
   "source": [
    "with open(\"exampleBackward_chaining.txt\", 'r', encoding='utf-8') as file:\n",
    "    lines = file.readlines()\n",
    "    for line in lines:\n",
    "        print(line)"
   ]
  },
  {
   "cell_type": "markdown",
   "metadata": {},
   "source": [
    "### Backward Chaining Main Programm"
   ]
  },
  {
   "cell_type": "code",
   "execution_count": 6,
   "metadata": {},
   "outputs": [
    {
     "name": "stdout",
     "output_type": "stream",
     "text": [
      "Fakten: {'P2', 'E', 'P1', 'B'}\n",
      "Regeln: ['A ∧ B ∧ C => D', 'A ∧ B ∧ E => F', 'P1 ∧ P2 => B']\n",
      "Ist es möglich das Ziel B zu erreichen? //  True\n",
      "Ziel konnte erreicht werden.\n"
     ]
    }
   ],
   "source": [
    "# Main Funktion beim Backward Chaining\n",
    "if __name__ == \"__main__\":\n",
    "    knowledge_file = 'exampleBackward_chaining.txt'\n",
    "    knowledge = read_import_fileBC(knowledge_file)\n",
    "\n",
    "    # Was soll überprüft werden ob es Vorhanden ist?\n",
    "    query = \"B\"\n",
    "\n",
    "    result = knowledge.ask(query)\n",
    "    print(f\"Ist es möglich das Ziel {query} zu erreichen? //  {result}\")\n",
    "\n",
    "    if result:\n",
    "        print(f\"Ziel konnte erreicht werden.\")\n",
    "    else:\n",
    "        print(\"Ziel konnte nicht erreicht werden.\")"
   ]
  },
  {
   "cell_type": "code",
   "execution_count": 205,
   "metadata": {},
   "outputs": [],
   "source": []
  },
  {
   "cell_type": "markdown",
   "metadata": {},
   "source": [
    "## Back und Forward Beispiele die nicht Funktionieren\n",
    "\n",
    "### Beispiel txt (exampleDontWork.txt)"
   ]
  },
  {
   "cell_type": "code",
   "execution_count": 7,
   "metadata": {},
   "outputs": [
    {
     "name": "stdout",
     "output_type": "stream",
     "text": [
      "A ∧ B => C\n",
      "\n",
      "C ∧ D => E\n",
      "\n",
      "E ∧ F => G\n",
      "\n",
      "\n",
      "\n",
      "=> X\n",
      "\n",
      "=> Y\n"
     ]
    }
   ],
   "source": [
    "with open(\"exampleDontWork.txt\", 'r', encoding='utf-8') as file:\n",
    "    lines = file.readlines()\n",
    "    for line in lines:\n",
    "        print(line)"
   ]
  },
  {
   "cell_type": "markdown",
   "metadata": {},
   "source": [
    "### Forward Chaining Beispiel, das nicht funktioniert\n",
    "Beim Forward Chaining geht man durch die möglichen Fakten und versucht so sein Ziel zu finden, Wenn dies nicht Vorhanden ist, dann findet man sein Zeil nicht."
   ]
  },
  {
   "cell_type": "code",
   "execution_count": 8,
   "metadata": {},
   "outputs": [
    {
     "name": "stdout",
     "output_type": "stream",
     "text": [
      "Fakten: {'Y', 'X'}\n",
      "Regeln: ['A ∧ B => C', 'C ∧ D => E', 'E ∧ F => G']\n",
      "Ist es möglich das Ziel E zu erreichen? //  False\n",
      "Ziel konnte nicht erreicht werden.\n",
      "Neu abgeleitete Fakten nach Forward Chaining: {'Y', 'X'}\n"
     ]
    }
   ],
   "source": [
    "# Forward Chaining\n",
    "if __name__ == \"__main__\":\n",
    "    knowledge_file = 'exampleDontWork.txt'\n",
    "    knowledge = read_import_file_FC(knowledge_file)\n",
    "    \n",
    "    target = \"E\"\n",
    "\n",
    "    result = knowledge.ask(target)\n",
    "    print(f\"Ist es möglich das Ziel {target} zu erreichen? //  {result}\")\n",
    "    if result:\n",
    "        print(f\"Ziel konnte erreicht werden.\")\n",
    "    else:\n",
    "        print(\"Ziel konnte nicht erreicht werden.\")\n",
    "        \n",
    "    new_facts = knowledge.forward_chaining()\n",
    "    print(\"Neu abgeleitete Fakten nach Forward Chaining:\", new_facts)"
   ]
  },
  {
   "cell_type": "markdown",
   "metadata": {},
   "source": [
    "### Backward Chaining Beispiel, das nicht funktioniert\n",
    "Beim Backward Chaining geht man von seinem Ziel aus zurück und Versucht mit diesen Fakten, sein Ziel zu erreichen."
   ]
  },
  {
   "cell_type": "code",
   "execution_count": 9,
   "metadata": {},
   "outputs": [
    {
     "name": "stdout",
     "output_type": "stream",
     "text": [
      "Fakten: {'Y', 'X'}\n",
      "Regeln: ['A ∧ B => C', 'C ∧ D => E', 'E ∧ F => G']\n",
      "Ist es möglich das Ziel F zu erreichen? //  False\n",
      "Ziel konnte nicht erreicht werden.\n"
     ]
    }
   ],
   "source": [
    "# Main Funktion beim Backward Chaining\n",
    "if __name__ == \"__main__\":\n",
    "    knowledge_file = 'exampleDontWork.txt'\n",
    "    knowledge = read_import_fileBC(knowledge_file)\n",
    "\n",
    "    # Was soll überprüft werden ob es Vorhanden ist?\n",
    "    query = \"F\"\n",
    "    result = knowledge.ask(query)\n",
    "    \n",
    "    print(f\"Ist es möglich das Ziel {query} zu erreichen? //  {result}\")\n",
    "    if result:\n",
    "        print(f\"Ziel konnte erreicht werden.\")\n",
    "    else:\n",
    "        print(\"Ziel konnte nicht erreicht werden.\")"
   ]
  },
  {
   "cell_type": "markdown",
   "metadata": {},
   "source": [
    "## Was ist schneller bei einer Großen Datenmänge?\n",
    "\n",
    "Im Folgenden Werde ich die Vorteile sowie die Nachteile von Forward Chaining und Backward Chaining beleuchten"
   ]
  },
  {
   "cell_type": "markdown",
   "metadata": {},
   "source": [
    "### Forward Chaining\n",
    "#### Vorteile:\n",
    "- Berechnung aller Fakten: \n",
    "  - Mit Forward Chaining können alle möglichen Fakten abgeleitet werden. Dies ist besonders hilfreich, wenn eine vollständige Analyse der Wissensbasis erforderlich ist, ohne dass ein bestimmtes Ziel geprüft werden muss.\n",
    "- Einmalige Berechnung:\n",
    "  - Nachdem alle Fakten abgeleitet wurden, können beliebig viele Abfragen gestellt werden, ohne dass der Prozess erneut durchlaufen werden muss.\n",
    "#### Nachteile:\n",
    "- Ineffizienz\n",
    "  - Bei großen Wissensbasen mit vielen Regeln und Fakten kann Forward Chaining zeitaufwendig und speicherintensiv sein, da alle möglichen Fakten berechnet werden.\n",
    "- Unnötige Berechnungen:\n",
    "  - Es werden auch Fakten abgeleitet, die möglicherweise nicht für die aktuelle Fragestellung relevant sind.\n",
    "\n",
    "#### In welchen Szenarien ist Forward Chaining sinnvoll?\n",
    "\n",
    "- Wenn alle potenziell ableitbaren Fakten benötigt werden.\n",
    "- Wenn die Wissensbasis klein oder schnell zu verarbeiten ist.\n",
    "- Wenn zukünftige Abfragen auf den bereits berechneten Fakten basieren sollen.\n",
    "\n",
    "### Backward Chaining\n",
    "#### Vorteile:\n",
    "- Gezielte Suche:\n",
    "  - Backward Chaining beginnt mit einem spezifischen Ziel und arbeitet rückwärts, um die relevanten Fakten oder Regeln zu finden. Dadurch wird nur geprüft, was für das Ziel erforderlich ist.\n",
    "- Effizienz bei klaren Zielen:\n",
    "    - Bei der Überprüfung eines einzelnen Ziels ist Backward Chaining oft schneller, da es unnötige Berechnungen vermeidet.\n",
    "#### Nachteile:\n",
    "- Ungeeignet für viele Ziele:\n",
    "  - Backward Chaining muss für jedes Ziel separat durchgeführt werden, was bei vielen Abfragen zeitaufwendig sein kann.\n",
    "- Komplexität bei verschachtelten Abhängigkeiten\n",
    "  - Wenn ein Ziel auf viele verschachtelte Regeln oder Bedingungen angewiesen ist, kann der Prozess durch Rekursion ineffizient werden.\n",
    "\n",
    "#### In welchen Szenarien ist Backward Chaining sinnvoll?\n",
    "\n",
    "- Wenn ein spezifisches Ziel überprüft werden soll.\n",
    "- Wenn nur wenige Ziele abgefragt werden.\n",
    "- Wenn die Wissensbasis groß und komplex ist, aber das Ziel sich auf eine begrenzte Anzahl von Regeln bezieht."
   ]
  },
  {
   "cell_type": "markdown",
   "metadata": {},
   "source": [
    "## Quellen\n",
    "- Dieses Video diente als Einstieg und erklärte sehr sinnvoll den Unterschied zwischen Backward Chaining und Forward Chaining\n",
    "  - https://www.youtube.com/watch?v=EZJs6w2YFRM\n",
    "- Ebenfalls die Informationen aus den Vorlesungen\n",
    "- ChatGPT um allgemein Rechtschreibung zu überprüfen\n",
    "  - https://chatgpt.com\n",
    "\n",
    "## Mögliche Probleme und Einschränkungen\n",
    "\n",
    "Die Implementierung des Forward Chaining und Backward Chaining in diesem Notebook ist grundlegend und dient vor allem dem Lehrzweck. Es gibt jedoch einige Einschränkungen und potenzielle Probleme:\n",
    "- **Skalierbarkeit:** Die Performance kann bei sehr großen Datenmengen leiden.\n",
    "- **Vollständigkeit:** Es ist nicht garantiert, dass alle möglichen Fakten immer abgeleitet werden, besonders in komplexen Szenarien.\n",
    "- **Effizienz:** Beide Methoden können in bestimmten Kontexten ineffizient sein, wie bereits in den Vorteilen/Nachteilen diskutiert."
   ]
  }
 ],
 "metadata": {
  "kernelspec": {
   "display_name": "Python 3",
   "language": "python",
   "name": "python3"
  },
  "language_info": {
   "codemirror_mode": {
    "name": "ipython",
    "version": 3
   },
   "file_extension": ".py",
   "mimetype": "text/x-python",
   "name": "python",
   "nbconvert_exporter": "python",
   "pygments_lexer": "ipython3",
   "version": "3.12.4"
  }
 },
 "nbformat": 4,
 "nbformat_minor": 2
}
